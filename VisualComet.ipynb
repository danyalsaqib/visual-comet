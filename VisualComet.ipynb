{
  "nbformat": 4,
  "nbformat_minor": 0,
  "metadata": {
    "accelerator": "GPU",
    "colab": {
      "name": "VisualComet.ipynb",
      "provenance": [],
      "collapsed_sections": []
    },
    "kernelspec": {
      "display_name": "Python 3",
      "name": "python3"
    },
    "language_info": {
      "name": "python"
    }
  },
  "cells": [
    {
      "cell_type": "code",
      "metadata": {
        "colab": {
          "base_uri": "https://localhost:8080/"
        },
        "id": "2PxX70yCf8y9",
        "outputId": "18ae75c2-18b7-46a0-ae24-1899300dc5f3"
      },
      "source": [
        "# Mount your google drive\n",
        "from google.colab import drive\n",
        "drive.mount('/content/drive', force_remount=True)"
      ],
      "execution_count": null,
      "outputs": [
        {
          "name": "stdout",
          "output_type": "stream",
          "text": [
            "Mounted at /content/drive\n"
          ]
        }
      ]
    },
    {
      "cell_type": "code",
      "metadata": {
        "colab": {
          "base_uri": "https://localhost:8080/"
        },
        "id": "xDbmpblRgbSU",
        "outputId": "88aa9f27-679b-4a38-981b-140d5591ce2f"
      },
      "source": [
        "# Make new directory named 'Scene_Graph_Generator'\n",
        "%cd drive/My Drive/\n",
        "! mkdir VisualComet\n",
        "%cd VisualComet"
      ],
      "execution_count": null,
      "outputs": [
        {
          "name": "stdout",
          "output_type": "stream",
          "text": [
            "/content/drive/My Drive\n",
            "/content/drive/My Drive/VisualComet\n"
          ]
        }
      ]
    },
    {
      "cell_type": "code",
      "metadata": {
        "colab": {
          "background_save": true,
          "base_uri": "https://localhost:8080/"
        },
        "id": "VRhMHqufwtul",
        "outputId": "2bc38c28-7ccd-460b-af90-ef41931f22d7"
      },
      "source": [
        "# Clone GitHub Repository\n",
        "! git clone --recursive https://github.com/danyalsaqib/visual-comet\n",
        "%cd visual-comet\n",
        "! pip install -r requirements.txt\n",
        "! pip install torch==1.5.0+cu101 torchvision==0.6.0+cu101 -f https://download.pytorch.org/whl/torch_stable.html"
      ],
      "execution_count": null,
      "outputs": [
        {
          "name": "stdout",
          "output_type": "stream",
          "text": [
            "Cloning into 'visual-comet'...\n",
            "remote: Enumerating objects: 124, done.\u001b[K\n",
            "remote: Counting objects: 100% (124/124), done.\u001b[K\n",
            "remote: Compressing objects: 100% (78/78), done.\u001b[K\n",
            "remote: Total 124 (delta 64), reused 91 (delta 41), pack-reused 0\u001b[K\n",
            "Receiving objects: 100% (124/124), 62.68 KiB | 2.32 MiB/s, done.\n",
            "Resolving deltas: 100% (64/64), done.\n",
            "Submodule 'coco-caption' (https://github.com/jamespark3922/coco-caption) registered for path 'coco-caption'\n",
            "Cloning into '/content/drive/My Drive/VisualComet/visual-comet/coco-caption'...\n",
            "remote: Enumerating objects: 827, done.        \n",
            "remote: Total 827 (delta 0), reused 0 (delta 0), pack-reused 827        \n",
            "Receiving objects: 100% (827/827), 130.73 MiB | 15.07 MiB/s, done.\n",
            "Resolving deltas: 100% (437/437), done.\n",
            "Submodule path 'coco-caption': checked out 'ea20010419a955fed9882f9dcc53f2dc1ac65092'\n",
            "/content/drive/My Drive/VisualComet/visual-comet\n",
            "Requirement already satisfied: numpy in /usr/local/lib/python3.7/dist-packages (from -r requirements.txt (line 2)) (1.19.5)\n",
            "Requirement already satisfied: scipy in /usr/local/lib/python3.7/dist-packages (from -r requirements.txt (line 3)) (1.4.1)\n",
            "Requirement already satisfied: scikit-learn in /usr/local/lib/python3.7/dist-packages (from -r requirements.txt (line 4)) (0.22.2.post1)\n",
            "Collecting ftfy==5.1\n",
            "  Downloading ftfy-5.1.tar.gz (51 kB)\n",
            "\u001b[K     |████████████████████████████████| 51 kB 348 kB/s \n",
            "\u001b[?25hRequirement already satisfied: tqdm in /usr/local/lib/python3.7/dist-packages (from -r requirements.txt (line 6)) (4.62.0)\n",
            "Requirement already satisfied: pandas in /usr/local/lib/python3.7/dist-packages (from -r requirements.txt (line 7)) (1.1.5)\n",
            "Requirement already satisfied: ipython in /usr/local/lib/python3.7/dist-packages (from -r requirements.txt (line 8)) (5.5.0)\n",
            "Collecting torch==1.5.0\n",
            "  Downloading torch-1.5.0-cp37-cp37m-manylinux1_x86_64.whl (752.0 MB)\n",
            "\u001b[K     |████████████████████████████████| 752.0 MB 10 kB/s \n",
            "\u001b[?25hRequirement already satisfied: torchvision in /usr/local/lib/python3.7/dist-packages (from -r requirements.txt (line 12)) (0.10.0+cu102)\n",
            "Collecting transformers==2.4.1\n",
            "  Downloading transformers-2.4.1-py3-none-any.whl (475 kB)\n",
            "\u001b[K     |████████████████████████████████| 475 kB 49.2 MB/s \n",
            "\u001b[?25hRequirement already satisfied: wcwidth in /usr/local/lib/python3.7/dist-packages (from ftfy==5.1->-r requirements.txt (line 5)) (0.2.5)\n",
            "Requirement already satisfied: future in /usr/local/lib/python3.7/dist-packages (from torch==1.5.0->-r requirements.txt (line 11)) (0.16.0)\n",
            "Collecting boto3\n",
            "  Downloading boto3-1.18.31-py3-none-any.whl (131 kB)\n",
            "\u001b[K     |████████████████████████████████| 131 kB 46.3 MB/s \n",
            "\u001b[?25hCollecting sacremoses\n",
            "  Downloading sacremoses-0.0.45-py3-none-any.whl (895 kB)\n",
            "\u001b[K     |████████████████████████████████| 895 kB 50.4 MB/s \n",
            "\u001b[?25hRequirement already satisfied: requests in /usr/local/lib/python3.7/dist-packages (from transformers==2.4.1->-r requirements.txt (line 13)) (2.23.0)\n",
            "Requirement already satisfied: regex!=2019.12.17 in /usr/local/lib/python3.7/dist-packages (from transformers==2.4.1->-r requirements.txt (line 13)) (2019.12.20)\n",
            "Requirement already satisfied: filelock in /usr/local/lib/python3.7/dist-packages (from transformers==2.4.1->-r requirements.txt (line 13)) (3.0.12)\n",
            "Collecting sentencepiece\n",
            "  Downloading sentencepiece-0.1.96-cp37-cp37m-manylinux_2_17_x86_64.manylinux2014_x86_64.whl (1.2 MB)\n",
            "\u001b[K     |████████████████████████████████| 1.2 MB 21.3 MB/s \n",
            "\u001b[?25hCollecting tokenizers==0.0.11\n",
            "  Downloading tokenizers-0.0.11-cp37-cp37m-manylinux1_x86_64.whl (4.7 MB)\n",
            "\u001b[K     |████████████████████████████████| 4.7 MB 36.9 MB/s \n",
            "\u001b[?25hRequirement already satisfied: joblib>=0.11 in /usr/local/lib/python3.7/dist-packages (from scikit-learn->-r requirements.txt (line 4)) (1.0.1)\n",
            "Requirement already satisfied: pytz>=2017.2 in /usr/local/lib/python3.7/dist-packages (from pandas->-r requirements.txt (line 7)) (2018.9)\n",
            "Requirement already satisfied: python-dateutil>=2.7.3 in /usr/local/lib/python3.7/dist-packages (from pandas->-r requirements.txt (line 7)) (2.8.2)\n",
            "Requirement already satisfied: six>=1.5 in /usr/local/lib/python3.7/dist-packages (from python-dateutil>=2.7.3->pandas->-r requirements.txt (line 7)) (1.15.0)\n",
            "Requirement already satisfied: setuptools>=18.5 in /usr/local/lib/python3.7/dist-packages (from ipython->-r requirements.txt (line 8)) (57.4.0)\n",
            "Requirement already satisfied: traitlets>=4.2 in /usr/local/lib/python3.7/dist-packages (from ipython->-r requirements.txt (line 8)) (5.0.5)\n",
            "Requirement already satisfied: pickleshare in /usr/local/lib/python3.7/dist-packages (from ipython->-r requirements.txt (line 8)) (0.7.5)\n",
            "Requirement already satisfied: prompt-toolkit<2.0.0,>=1.0.4 in /usr/local/lib/python3.7/dist-packages (from ipython->-r requirements.txt (line 8)) (1.0.18)\n",
            "Requirement already satisfied: pexpect in /usr/local/lib/python3.7/dist-packages (from ipython->-r requirements.txt (line 8)) (4.8.0)\n",
            "Requirement already satisfied: pygments in /usr/local/lib/python3.7/dist-packages (from ipython->-r requirements.txt (line 8)) (2.6.1)\n",
            "Requirement already satisfied: decorator in /usr/local/lib/python3.7/dist-packages (from ipython->-r requirements.txt (line 8)) (4.4.2)\n",
            "Requirement already satisfied: simplegeneric>0.8 in /usr/local/lib/python3.7/dist-packages (from ipython->-r requirements.txt (line 8)) (0.8.1)\n",
            "Requirement already satisfied: ipython-genutils in /usr/local/lib/python3.7/dist-packages (from traitlets>=4.2->ipython->-r requirements.txt (line 8)) (0.2.0)\n",
            "Collecting torchvision\n",
            "  Downloading torchvision-0.10.0-cp37-cp37m-manylinux1_x86_64.whl (22.1 MB)\n",
            "\u001b[K     |████████████████████████████████| 22.1 MB 1.4 MB/s \n",
            "\u001b[?25h  Downloading torchvision-0.9.1-cp37-cp37m-manylinux1_x86_64.whl (17.4 MB)\n",
            "\u001b[K     |████████████████████████████████| 17.4 MB 119 kB/s \n",
            "\u001b[?25h  Downloading torchvision-0.9.0-cp37-cp37m-manylinux1_x86_64.whl (17.3 MB)\n",
            "\u001b[K     |████████████████████████████████| 17.3 MB 19 kB/s \n",
            "\u001b[?25hRequirement already satisfied: pillow>=4.1.1 in /usr/local/lib/python3.7/dist-packages (from torchvision->-r requirements.txt (line 12)) (7.1.2)\n",
            "  Downloading torchvision-0.8.2-cp37-cp37m-manylinux1_x86_64.whl (12.8 MB)\n",
            "\u001b[K     |████████████████████████████████| 12.8 MB 23 kB/s \n",
            "\u001b[?25h  Downloading torchvision-0.8.1-cp37-cp37m-manylinux1_x86_64.whl (12.7 MB)\n",
            "\u001b[K     |████████████████████████████████| 12.7 MB 93 kB/s \n",
            "\u001b[?25h  Downloading torchvision-0.8.0-cp37-cp37m-manylinux1_x86_64.whl (11.8 MB)\n",
            "\u001b[K     |████████████████████████████████| 11.8 MB 260 kB/s \n",
            "\u001b[?25h  Downloading torchvision-0.7.0-cp37-cp37m-manylinux1_x86_64.whl (5.9 MB)\n",
            "\u001b[K     |████████████████████████████████| 5.9 MB 22.3 MB/s \n",
            "\u001b[?25h  Downloading torchvision-0.6.1-cp37-cp37m-manylinux1_x86_64.whl (6.6 MB)\n",
            "\u001b[K     |████████████████████████████████| 6.6 MB 20.2 MB/s \n",
            "\u001b[?25h  Downloading torchvision-0.6.0-cp37-cp37m-manylinux1_x86_64.whl (6.6 MB)\n",
            "\u001b[K     |████████████████████████████████| 6.6 MB 7.4 MB/s \n",
            "\u001b[?25hCollecting s3transfer<0.6.0,>=0.5.0\n",
            "  Downloading s3transfer-0.5.0-py3-none-any.whl (79 kB)\n",
            "\u001b[K     |████████████████████████████████| 79 kB 6.9 MB/s \n",
            "\u001b[?25hCollecting botocore<1.22.0,>=1.21.31\n",
            "  Downloading botocore-1.21.31-py3-none-any.whl (7.8 MB)\n",
            "\u001b[K     |████████████████████████████████| 7.8 MB 16.5 MB/s \n",
            "\u001b[?25hCollecting jmespath<1.0.0,>=0.7.1\n",
            "  Downloading jmespath-0.10.0-py2.py3-none-any.whl (24 kB)\n",
            "Collecting urllib3<1.27,>=1.25.4\n",
            "  Downloading urllib3-1.26.6-py2.py3-none-any.whl (138 kB)\n",
            "\u001b[K     |████████████████████████████████| 138 kB 53.4 MB/s \n",
            "\u001b[?25hRequirement already satisfied: ptyprocess>=0.5 in /usr/local/lib/python3.7/dist-packages (from pexpect->ipython->-r requirements.txt (line 8)) (0.7.0)\n",
            "Requirement already satisfied: idna<3,>=2.5 in /usr/local/lib/python3.7/dist-packages (from requests->transformers==2.4.1->-r requirements.txt (line 13)) (2.10)\n",
            "  Downloading urllib3-1.25.11-py2.py3-none-any.whl (127 kB)\n",
            "\u001b[K     |████████████████████████████████| 127 kB 50.3 MB/s \n",
            "\u001b[?25hRequirement already satisfied: chardet<4,>=3.0.2 in /usr/local/lib/python3.7/dist-packages (from requests->transformers==2.4.1->-r requirements.txt (line 13)) (3.0.4)\n",
            "Requirement already satisfied: certifi>=2017.4.17 in /usr/local/lib/python3.7/dist-packages (from requests->transformers==2.4.1->-r requirements.txt (line 13)) (2021.5.30)\n",
            "Requirement already satisfied: click in /usr/local/lib/python3.7/dist-packages (from sacremoses->transformers==2.4.1->-r requirements.txt (line 13)) (7.1.2)\n",
            "Building wheels for collected packages: ftfy\n",
            "  Building wheel for ftfy (setup.py) ... \u001b[?25l\u001b[?25hdone\n",
            "  Created wheel for ftfy: filename=ftfy-5.1-py3-none-any.whl size=39219 sha256=516ec443dd623a15f0188b3b6f7f7400b3aa308556bb434fcdf43f558ef47c89\n",
            "  Stored in directory: /root/.cache/pip/wheels/80/0a/4e/64bbd722ea7bed148b8ef1516dbae348d50b296822e7c1ef41\n",
            "Successfully built ftfy\n",
            "Installing collected packages: urllib3, jmespath, botocore, s3transfer, torch, tokenizers, sentencepiece, sacremoses, boto3, transformers, torchvision, ftfy\n",
            "  Attempting uninstall: urllib3\n",
            "    Found existing installation: urllib3 1.24.3\n",
            "    Uninstalling urllib3-1.24.3:\n",
            "      Successfully uninstalled urllib3-1.24.3\n",
            "  Attempting uninstall: torch\n",
            "    Found existing installation: torch 1.9.0+cu102\n",
            "    Uninstalling torch-1.9.0+cu102:\n",
            "      Successfully uninstalled torch-1.9.0+cu102\n",
            "  Attempting uninstall: torchvision\n",
            "    Found existing installation: torchvision 0.10.0+cu102\n",
            "    Uninstalling torchvision-0.10.0+cu102:\n",
            "      Successfully uninstalled torchvision-0.10.0+cu102\n",
            "\u001b[31mERROR: pip's dependency resolver does not currently take into account all the packages that are installed. This behaviour is the source of the following dependency conflicts.\n",
            "torchtext 0.10.0 requires torch==1.9.0, but you have torch 1.5.0 which is incompatible.\n",
            "datascience 0.10.6 requires folium==0.2.1, but you have folium 0.8.3 which is incompatible.\u001b[0m\n",
            "Successfully installed boto3-1.18.31 botocore-1.21.31 ftfy-5.1 jmespath-0.10.0 s3transfer-0.5.0 sacremoses-0.0.45 sentencepiece-0.1.96 tokenizers-0.0.11 torch-1.5.0 torchvision-0.6.0 transformers-2.4.1 urllib3-1.25.11\n",
            "Looking in links: https://download.pytorch.org/whl/torch_stable.html\n",
            "Collecting torch==1.5.0+cu101\n",
            "  Downloading https://download.pytorch.org/whl/cu101/torch-1.5.0%2Bcu101-cp37-cp37m-linux_x86_64.whl (703.8 MB)\n",
            "\u001b[K     |████████████████████████████████| 703.8 MB 22 kB/s \n",
            "\u001b[?25hCollecting torchvision==0.6.0+cu101\n",
            "  Downloading https://download.pytorch.org/whl/cu101/torchvision-0.6.0%2Bcu101-cp37-cp37m-linux_x86_64.whl (6.6 MB)\n",
            "\u001b[K     |████████████████████████████████| 6.6 MB 38.2 MB/s \n",
            "\u001b[?25hRequirement already satisfied: numpy in /usr/local/lib/python3.7/dist-packages (from torch==1.5.0+cu101) (1.19.5)\n",
            "Requirement already satisfied: future in /usr/local/lib/python3.7/dist-packages (from torch==1.5.0+cu101) (0.16.0)\n",
            "Requirement already satisfied: pillow>=4.1.1 in /usr/local/lib/python3.7/dist-packages (from torchvision==0.6.0+cu101) (7.1.2)\n",
            "Installing collected packages: torch, torchvision\n",
            "  Attempting uninstall: torch\n",
            "    Found existing installation: torch 1.5.0\n",
            "    Uninstalling torch-1.5.0:\n",
            "      Successfully uninstalled torch-1.5.0\n",
            "  Attempting uninstall: torchvision\n",
            "    Found existing installation: torchvision 0.6.0\n",
            "    Uninstalling torchvision-0.6.0:\n",
            "      Successfully uninstalled torchvision-0.6.0\n",
            "\u001b[31mERROR: pip's dependency resolver does not currently take into account all the packages that are installed. This behaviour is the source of the following dependency conflicts.\n",
            "torchtext 0.10.0 requires torch==1.9.0, but you have torch 1.5.0+cu101 which is incompatible.\u001b[0m\n",
            "Successfully installed torch-1.5.0+cu101 torchvision-0.6.0+cu101\n"
          ]
        }
      ]
    },
    {
      "cell_type": "code",
      "metadata": {
        "colab": {
          "background_save": true
        },
        "id": "dwsDoRhRz-tu",
        "outputId": "0afb10db-ec12-4cfd-ae39-ed1dd5a64a00"
      },
      "source": [
        "# Download pretrained model and inferences\n",
        "! mkdir experiments\n",
        "%cd experiments\n",
        "! wget https://storage.googleapis.com/ai2-mosaic/public/visualcomet/image-inference-80000-ckpt.zip\n",
        "! unzip image-inference-80000-ckpt.zip\n",
        "! ls\n",
        "%cd .."
      ],
      "execution_count": null,
      "outputs": [
        {
          "name": "stdout",
          "output_type": "stream",
          "text": [
            "mkdir: cannot create directory ‘experiments’: File exists\n",
            "/content/drive/My Drive/VisualComet/visual-comet/experiments\n",
            "--2021-08-29 18:29:45--  https://storage.googleapis.com/ai2-mosaic/public/visualcomet/image-inference-80000-ckpt.zip\n",
            "Resolving storage.googleapis.com (storage.googleapis.com)... 142.251.6.128, 74.125.70.128, 74.125.202.128, ...\n",
            "Connecting to storage.googleapis.com (storage.googleapis.com)|142.251.6.128|:443... connected.\n",
            "HTTP request sent, awaiting response... 200 OK\n",
            "Length: 473070797 (451M) [application/zip]\n",
            "Saving to: ‘image-inference-80000-ckpt.zip’\n",
            "\n",
            "image-inference-800 100%[===================>] 451.16M  36.9MB/s    in 14s     \n",
            "\n",
            "2021-08-29 18:29:59 (33.0 MB/s) - ‘image-inference-80000-ckpt.zip’ saved [473070797/473070797]\n",
            "\n",
            "Archive:  image-inference-80000-ckpt.zip\n",
            "   creating: image-inference-80000-ckpt/\n",
            "  inflating: image-inference-80000-ckpt/added_tokens.json  \n",
            "  inflating: image-inference-80000-ckpt/tokenizer_config.json  \n",
            "  inflating: image-inference-80000-ckpt/special_tokens_map.json  \n",
            "  inflating: image-inference-80000-ckpt/config.json  \n",
            "  inflating: image-inference-80000-ckpt/val_sample_1_num_5_top_k_0_top_p_0.9.json  \n",
            "  inflating: image-inference-80000-ckpt/merges.txt  \n",
            "  inflating: image-inference-80000-ckpt/training_args.bin  \n",
            "  inflating: image-inference-80000-ckpt/val_sample_1_num_5_top_k_0_top_p_0.9.evaluate.json  \n",
            "  inflating: image-inference-80000-ckpt/pytorch_model.bin  \n",
            "  inflating: image-inference-80000-ckpt/vocab.json  \n",
            "ease_of_use.txt  image-inference-80000-ckpt  image-inference-80000-ckpt.zip\n",
            "/content/drive/My Drive/VisualComet/visual-comet\n"
          ]
        }
      ]
    },
    {
      "cell_type": "code",
      "metadata": {
        "colab": {
          "background_save": true
        },
        "id": "Vd6SbWHkw8ui",
        "outputId": "8f00d4d7-2b8d-4290-867c-1f6e6a48da9e"
      },
      "source": [
        "# Download dataset - Annotations and Images (Images optional for inferences from scratch)\n",
        "%cd data\n",
        "! wget https://storage.googleapis.com/ai2-mosaic/public/visualcomet/visualcomet.zip\n",
        "! unzip visualcomet.zip\n",
        "# Uncomment next two lines if you want to download Images as well, for inferences to run from scratch\n",
        "# ! wget https://s3.us-west-2.amazonaws.com/ai2-rowanz/vcr1images.zip\n",
        "# ! unzip vcr1images.zip\n",
        "%cd .."
      ],
      "execution_count": null,
      "outputs": [
        {
          "name": "stdout",
          "output_type": "stream",
          "text": [
            "/content/drive/My Drive/VisualComet/visual-comet/data\n",
            "--2021-08-29 18:30:11--  https://storage.googleapis.com/ai2-mosaic/public/visualcomet/visualcomet.zip\n",
            "Resolving storage.googleapis.com (storage.googleapis.com)... 209.85.234.128, 74.125.124.128, 172.217.212.128, ...\n",
            "Connecting to storage.googleapis.com (storage.googleapis.com)|209.85.234.128|:443... connected.\n",
            "HTTP request sent, awaiting response... 200 OK\n",
            "Length: 18395831 (18M) [application/zip]\n",
            "Saving to: ‘visualcomet.zip’\n",
            "\n",
            "visualcomet.zip     100%[===================>]  17.54M  28.0MB/s    in 0.6s    \n",
            "\n",
            "2021-08-29 18:30:12 (28.0 MB/s) - ‘visualcomet.zip’ saved [18395831/18395831]\n",
            "\n",
            "Archive:  visualcomet.zip\n",
            "   creating: visualcomet/\n",
            "  inflating: visualcomet/test_annots.json  \n",
            "  inflating: visualcomet/train_annots.json  \n",
            "  inflating: visualcomet/val_annots.json  \n",
            "/content/drive/My Drive/VisualComet/visual-comet\n"
          ]
        }
      ]
    },
    {
      "cell_type": "code",
      "metadata": {
        "id": "3Bu5BuO3zXZ5"
      },
      "source": [
        "# Downloading features for VCR dataset\n",
        "! mkdir features\n",
        "%cd features\n",
        "! wget https://storage.googleapis.com/ai2-mosaic/public/visualcomet/features.zip\n",
        "! unzip features.zip\n",
        "%cd .."
      ],
      "execution_count": null,
      "outputs": []
    },
    {
      "cell_type": "code",
      "metadata": {
        "colab": {
          "background_save": true
        },
        "id": "ncHox2uRVagU",
        "outputId": "c563f0cf-fbb7-43dd-a1b4-4b41e8766509"
      },
      "source": [
        "# Install transfromers\n",
        "! pip install transformers\n",
        "\n",
        "# For generating inferences from scratch, we uncomment this line. This requires VCR Images dataset to be downloaded.\n",
        "# python run_generation.py --data_dir data/visualcomet/ --model_name_or_path experiments/image_inference/ --split val\n",
        "\n",
        "# For running evaluation on Checkpoint's inferences\n",
        "! python evaluate_generation.py --gens_file experiments/image-inference-80000-ckpt/val_sample_1_num_5_top_k_0_top_p_0.9.json --refs_file data/visualcomet/val_annots.json"
      ],
      "execution_count": null,
      "outputs": [
        {
          "name": "stdout",
          "output_type": "stream",
          "text": [
            "Requirement already satisfied: transformers in /usr/local/lib/python3.7/dist-packages (2.4.1)\n",
            "Requirement already satisfied: requests in /usr/local/lib/python3.7/dist-packages (from transformers) (2.23.0)\n",
            "Requirement already satisfied: tokenizers==0.0.11 in /usr/local/lib/python3.7/dist-packages (from transformers) (0.0.11)\n",
            "Requirement already satisfied: filelock in /usr/local/lib/python3.7/dist-packages (from transformers) (3.0.12)\n",
            "Requirement already satisfied: tqdm>=4.27 in /usr/local/lib/python3.7/dist-packages (from transformers) (4.62.0)\n",
            "Requirement already satisfied: regex!=2019.12.17 in /usr/local/lib/python3.7/dist-packages (from transformers) (2019.12.20)\n",
            "Requirement already satisfied: sacremoses in /usr/local/lib/python3.7/dist-packages (from transformers) (0.0.45)\n",
            "Requirement already satisfied: numpy in /usr/local/lib/python3.7/dist-packages (from transformers) (1.19.5)\n",
            "Requirement already satisfied: boto3 in /usr/local/lib/python3.7/dist-packages (from transformers) (1.18.31)\n",
            "Requirement already satisfied: sentencepiece in /usr/local/lib/python3.7/dist-packages (from transformers) (0.1.96)\n",
            "Requirement already satisfied: botocore<1.22.0,>=1.21.31 in /usr/local/lib/python3.7/dist-packages (from boto3->transformers) (1.21.31)\n",
            "Requirement already satisfied: jmespath<1.0.0,>=0.7.1 in /usr/local/lib/python3.7/dist-packages (from boto3->transformers) (0.10.0)\n",
            "Requirement already satisfied: s3transfer<0.6.0,>=0.5.0 in /usr/local/lib/python3.7/dist-packages (from boto3->transformers) (0.5.0)\n",
            "Requirement already satisfied: urllib3<1.27,>=1.25.4 in /usr/local/lib/python3.7/dist-packages (from botocore<1.22.0,>=1.21.31->boto3->transformers) (1.25.11)\n",
            "Requirement already satisfied: python-dateutil<3.0.0,>=2.1 in /usr/local/lib/python3.7/dist-packages (from botocore<1.22.0,>=1.21.31->boto3->transformers) (2.8.2)\n",
            "Requirement already satisfied: six>=1.5 in /usr/local/lib/python3.7/dist-packages (from python-dateutil<3.0.0,>=2.1->botocore<1.22.0,>=1.21.31->boto3->transformers) (1.15.0)\n",
            "Requirement already satisfied: chardet<4,>=3.0.2 in /usr/local/lib/python3.7/dist-packages (from requests->transformers) (3.0.4)\n",
            "Requirement already satisfied: idna<3,>=2.5 in /usr/local/lib/python3.7/dist-packages (from requests->transformers) (2.10)\n",
            "Requirement already satisfied: certifi>=2017.4.17 in /usr/local/lib/python3.7/dist-packages (from requests->transformers) (2021.5.30)\n",
            "Requirement already satisfied: click in /usr/local/lib/python3.7/dist-packages (from sacremoses->transformers) (7.1.2)\n",
            "Requirement already satisfied: joblib in /usr/local/lib/python3.7/dist-packages (from sacremoses->transformers) (1.0.1)\n",
            "41304it [00:02, 14905.78it/s]\n",
            "PTBTokenizer tokenized 4313089 tokens at 237942.11 tokens per second.\n",
            "PTBTokenizer tokenized 1192185 tokens at 64555.18 tokens per second.\n",
            "{'testlen': 984594, 'reflen': 959583, 'guess': [984594, 778104, 572528, 389358], 'correct': [275882, 50644, 12255, 2684]}\n",
            "ratio: 1.0260644467440534\n",
            "Bleu_1 0.2801987418164235\n",
            "Bleu_2 0.13504492453912845\n",
            "Bleu_3 0.07308434726371571\n",
            "Bleu_4 0.040502015138641226\n",
            "Traceback (most recent call last):\n",
            "  File \"evaluate_generation.py\", line 201, in <module>\n",
            "    main()\n",
            "  File \"evaluate_generation.py\", line 193, in main\n",
            "    calculate_diversity=args.diversity, train_file=args.train_file)\n",
            "  File \"evaluate_generation.py\", line 153, in compute_metric_inference\n",
            "    score, scores = scorer.compute_score(refs, preds)\n",
            "  File \"./coco-caption/pycocoevalcap/meteor/meteor.py\", line 43, in compute_score\n",
            "    stat = self._stat(res[i][0], gts[i])\n",
            "  File \"./coco-caption/pycocoevalcap/meteor/meteor.py\", line 67, in _stat\n",
            "    self.meteor_p.stdin.write(score_line+'\\n')\n",
            "BrokenPipeError: [Errno 32] Broken pipe\n"
          ]
        }
      ]
    }
  ]
}